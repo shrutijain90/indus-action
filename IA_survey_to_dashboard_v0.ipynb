{
 "cells": [
  {
   "cell_type": "code",
   "execution_count": 1,
   "metadata": {},
   "outputs": [],
   "source": [
    "from __future__ import print_function\n",
    "import pickle\n",
    "import os.path\n",
    "from googleapiclient.discovery import build\n",
    "from google_auth_oauthlib.flow import InstalledAppFlow\n",
    "from google.auth.transport.requests import Request\n",
    "import pandas as pd\n",
    "import numpy as np\n",
    "import re\n",
    "\n",
    "pd.set_option('display.max_columns', None)\n",
    "pd.set_option('display.max_rows', None)"
   ]
  },
  {
   "cell_type": "markdown",
   "metadata": {},
   "source": [
    "## Obtain data from Google spreadsheet"
   ]
  },
  {
   "cell_type": "code",
   "execution_count": 2,
   "metadata": {},
   "outputs": [],
   "source": [
    "SCOPES = ['https://www.googleapis.com/auth/spreadsheets.readonly']\n",
    "\n",
    "if os.path.exists('token.pickle'):\n",
    "    with open('token.pickle', 'rb') as token:\n",
    "        creds = pickle.load(token)\n",
    "        \n",
    "# If there are no (valid) credentials available, let the user log in.\n",
    "if not creds or not creds.valid:\n",
    "    if creds and creds.expired and creds.refresh_token:\n",
    "        creds.refresh(Request())\n",
    "    else:\n",
    "        flow = InstalledAppFlow.from_client_secrets_file(\n",
    "            'credentials.json', SCOPES)\n",
    "        creds = flow.run_local_server(port=0)\n",
    "    # Save the credentials for the next run\n",
    "    with open('token.pickle', 'wb') as token:\n",
    "        pickle.dump(creds, token)\n",
    "\n",
    "service = build('sheets', 'v4', credentials=creds)\n",
    "\n",
    "sheet = service.spreadsheets()"
   ]
  },
  {
   "cell_type": "code",
   "execution_count": 3,
   "metadata": {},
   "outputs": [],
   "source": [
    "def gsheet2df(gsheet):\n",
    "    \"\"\" Converts Google sheet data to a Pandas DataFrame.\n",
    "    Note: This script assumes that your data contains a header file on the first row!\n",
    "    Also note that the Google API returns 'none' from empty cells - in order for the code\n",
    "    below to work, you'll need to make sure your sheet doesn't contain empty cells,\n",
    "    or update the code to account for such instances.\n",
    "    \"\"\"\n",
    "    header = gsheet.get('values', [])[0]   # Assumes first line is header!\n",
    "    values = gsheet.get('values', [])[1:]  # Everything else is data.\n",
    "    if not values:\n",
    "        print('No data found.')\n",
    "    else:\n",
    "        all_data = []\n",
    "        for col_id, col_name in enumerate(header):\n",
    "            column_data = []\n",
    "            for row in values:\n",
    "                column_data.append(row[col_id])\n",
    "            ds = pd.Series(data=column_data, name=col_name)\n",
    "            all_data.append(ds)\n",
    "        df = pd.concat(all_data, axis=1)\n",
    "        return df"
   ]
  },
  {
   "cell_type": "code",
   "execution_count": 4,
   "metadata": {},
   "outputs": [],
   "source": [
    "spreadsheet = '1EHTQy7nnT0JWgiWenlgxbGOpTN0jvc3ZWMSYVcb3reQ'\n",
    "sheet_range = '12th April 2020!A:XX'\n",
    "\n",
    "survey_responses = sheet.values().get(spreadsheetId=spreadsheet, range=sheet_range).execute()"
   ]
  },
  {
   "cell_type": "code",
   "execution_count": 5,
   "metadata": {},
   "outputs": [],
   "source": [
    "survey = gsheet2df(survey_responses)"
   ]
  },
  {
   "cell_type": "markdown",
   "metadata": {},
   "source": [
    "## Combine columns "
   ]
  },
  {
   "cell_type": "code",
   "execution_count": 6,
   "metadata": {},
   "outputs": [],
   "source": [
    "questions = ['NameoftheDistrict', '1_1', '1_2', '2_1', '2_2', '2_3', \n",
    "             '3_1.mgnrega', '3_1.pmKisan', '3_1.ujjwala', '3_1.janDhan', '3_1.oldAgeWidow', \n",
    "             '3_1.registeredLabour', '3_1.freeRation', '3_1.notEligible', '3_1.none',\n",
    "             '3_2.mgnrega', '3_2.pmKisan', '3_2.ujjwala', '3_2.janDhan', '3_2.oldAgeWidow', \n",
    "             '3_2.registeredLabour', '3_2.bplRation', '3_2.generalRation', '3_2.none',\n",
    "             '3_3', '3_4', '4_1', '4_2']\n",
    "\n",
    "for question in questions:\n",
    "    cols = [col for col in survey.columns if question in col] \n",
    "    if question == 'NameoftheDistrict':\n",
    "        cols = cols + ['locationBihar']\n",
    "    survey[question] = survey[cols].sum(1)\n",
    "    survey = survey.drop(cols, 1)\n",
    "\n",
    "cols = ['_2' , '4_2']\n",
    "survey['4_2'] = survey[cols].sum(1)\n",
    "survey = survey.drop(['_2'], 1)"
   ]
  },
  {
   "cell_type": "markdown",
   "metadata": {},
   "source": [
    "## Clean strings"
   ]
  },
  {
   "cell_type": "code",
   "execution_count": 7,
   "metadata": {},
   "outputs": [],
   "source": [
    "# Column names\n",
    "survey = survey.rename(columns={\"_id\": \"ID\", \"created\": \"time_created\", \"modified\": \"time_modified\",\n",
    "                                \"volunteerType\": \"surveyer\", \n",
    "                                \"Number_ID\": \"number_id\", \"introductionCallConnected\": \"call_connected\",\n",
    "                                \"introductionAvailability\": \"availability\", \n",
    "                                \"endCallStatusEndCallStatus\": \"end_call_status\", \n",
    "                                \"locationSelectState\": \"state\", \"NameoftheDistrict\": \"district\", \n",
    "                                \"locationNameofArea\": \"area_name\", \"1_1\": \"need_meds\", \"1_2\": \"comments_health\",\n",
    "                                \"2_1\": \"have_food\", \"2_3\": \"comments_food\", \n",
    "                                '3_2.mgnrega': \"eligible_mgnrega\",\n",
    "                                '3_2.pmKisan': \"eligible_pm_kisan\", '3_2.ujjwala': \"eligible_ujjwala\", \n",
    "                                '3_2.janDhan': \"eligible_jan_dhan\", '3_2.oldAgeWidow': \"eligible_old_age_widow\",\n",
    "                                '3_2.registeredLabour': \"eligible_registered_labor\", \n",
    "                                '3_2.bplRation': \"eligible_bpl_ration\", \n",
    "                                '3_2.generalRation': \"eligible_general_ration\",\n",
    "                                '3_2.none': \"eligible_none\", \n",
    "                                '3_1.mgnrega': \"received_mgnrega\", \n",
    "                                '3_1.pmKisan': \"received_pm_kisan\", '3_1.ujjwala': \"received_ujjwala\", \n",
    "                                '3_1.janDhan': \"received_jan_dhan\", '3_1.oldAgeWidow': \"received_old_age_widow\", \n",
    "                                '3_1.registeredLabour': \"received_registered_labor\", \n",
    "                                '3_1.freeRation': \"received_free_ration\", '3_1.notEligible': \"received_not_eligible\", \n",
    "                                '3_1.none': \"received_none\", \"3_4\": \"comments_benefits\",\n",
    "                                \"3_3\": \"employment_status\", \n",
    "                                \"4_1\": \"need_to_revert\",\n",
    "                                \"4_2\": \"comments_additional\"})"
   ]
  },
  {
   "cell_type": "code",
   "execution_count": 8,
   "metadata": {},
   "outputs": [],
   "source": [
    "# yes / no / true / false etc\n",
    "\n",
    "binary_cols = ['call_connected', 'availability', 'need_meds', 'have_food', 'received_mgnrega', 'received_pm_kisan', \n",
    "                'received_ujjwala', 'received_jan_dhan', 'received_old_age_widow', 'received_registered_labor', \n",
    "                'received_free_ration', 'received_not_eligible', 'received_none', 'eligible_mgnrega',\n",
    "                'eligible_pm_kisan', 'eligible_ujjwala', 'eligible_jan_dhan', 'eligible_old_age_widow', \n",
    "                'eligible_registered_labor', 'eligible_bpl_ration', 'eligible_general_ration', 'eligible_none',\n",
    "                'need_to_revert']\n",
    "\n",
    "survey[binary_cols] = survey[binary_cols].replace(to_replace=r'(?i)^(yes|true)', value=True, regex=True)\n",
    "survey[binary_cols] = survey[binary_cols].replace(to_replace=r'(?i)^(no|false)', value=False, regex=True)"
   ]
  },
  {
   "cell_type": "code",
   "execution_count": 9,
   "metadata": {},
   "outputs": [],
   "source": [
    "survey['time_created'] = pd.to_datetime(survey['time_created'], format='%Y-%m-%d %I:%M %p UTC')"
   ]
  },
  {
   "cell_type": "code",
   "execution_count": 10,
   "metadata": {},
   "outputs": [],
   "source": [
    "# date columns\n",
    "survey['time_created'] = pd.to_datetime(survey['time_created'], format='%Y-%m-%d %I:%M %p UTC')\n",
    "survey['time_created'] = survey['time_created'].dt.tz_localize(\"UTC\").dt.tz_convert('Asia/Kolkata').dt.tz_localize(None)\n",
    "survey['time_modified'] = pd.to_datetime(survey['time_modified'], format='%Y-%m-%d %I:%M %p UTC')\n",
    "survey['time_modified'] = survey['time_modified'].dt.tz_localize(\"UTC\").dt.tz_convert('Asia/Kolkata').dt.tz_localize(None)\n"
   ]
  },
  {
   "cell_type": "code",
   "execution_count": 11,
   "metadata": {},
   "outputs": [],
   "source": [
    "# state, district, area name\n",
    "def capitalizeName(name):\n",
    "    name = re.sub(r\"(?i)village\",\"\", name)\n",
    "    name = re.sub(r\"(?<=\\w)([A-Z])\", r\" \\1\", name).capitalize()\n",
    "    name = name.replace(\"-\", \" \")\n",
    "    name = name.strip()\n",
    "    name = name.title()\n",
    "    return name\n",
    "\n",
    "survey[['state', 'district', 'area_name']] = survey[['state', 'district', 'area_name']].applymap(capitalizeName)"
   ]
  },
  {
   "cell_type": "code",
   "execution_count": 12,
   "metadata": {},
   "outputs": [],
   "source": [
    "# employment status\n",
    "survey['employment_status'] = survey['employment_status'].apply(lambda x: re.sub(\"([^\\x00-\\x7F])+\",\"\",x))"
   ]
  },
  {
   "cell_type": "code",
   "execution_count": 13,
   "metadata": {},
   "outputs": [],
   "source": [
    "# NaNs\n",
    "survey.replace(r'^\\s*$', np.NaN, regex=True, inplace=True)\n",
    "survey.dropna(axis=1, how=\"all\", inplace=True)"
   ]
  },
  {
   "cell_type": "markdown",
   "metadata": {},
   "source": [
    "## Other checks"
   ]
  },
  {
   "cell_type": "code",
   "execution_count": 14,
   "metadata": {},
   "outputs": [],
   "source": [
    "# removing duplicates\n",
    "survey.drop_duplicates(inplace=True)"
   ]
  },
  {
   "cell_type": "code",
   "execution_count": 15,
   "metadata": {},
   "outputs": [],
   "source": [
    "# duplicated rows\n",
    "duplicated = survey[survey.duplicated('ID')]\n",
    "duplicated['issue'] = 'duplicated ID'"
   ]
  },
  {
   "cell_type": "code",
   "execution_count": 16,
   "metadata": {},
   "outputs": [],
   "source": [
    "# removing ID duplicates \n",
    "survey.drop_duplicates(subset=['ID'], inplace=True)"
   ]
  },
  {
   "cell_type": "code",
   "execution_count": 17,
   "metadata": {},
   "outputs": [],
   "source": [
    "# call not connected but available\n",
    "available_issue = survey[(survey['call_connected']!=True) & (survey['availability']==True)]\n",
    "available_issue['issue'] = 'call connected is false but shown available'"
   ]
  },
  {
   "cell_type": "code",
   "execution_count": 18,
   "metadata": {},
   "outputs": [],
   "source": [
    "# data present when call not connected or no availability\n",
    "nodata_rows = survey[(survey['call_connected']!=True) | (survey['availability']!=True)]\n",
    "nodata_rows = nodata_rows[pd.notnull(nodata_rows[nodata_rows.columns.difference(['ID', 'time_created', \n",
    "                                                                                 'time_modified', 'surveyer',\n",
    "                                                                                 'number_id', 'call_connected', \n",
    "                                                                                 'availability', \n",
    "                                                                                 'end_call_status'])]).all(axis=1)]\n",
    "nodata_rows['issue'] = 'data present when call connected or availability is false'"
   ]
  },
  {
   "cell_type": "code",
   "execution_count": 19,
   "metadata": {},
   "outputs": [],
   "source": [
    "# keeping only available\n",
    "survey = survey[survey['call_connected'] == True]\n",
    "survey = survey[survey['availability'] == True]\n",
    "\n",
    "# adding those rows where data is present \n",
    "survey = pd.concat([survey, nodata_rows[nodata_rows.columns.difference(['issue'], sort=False)]])"
   ]
  },
  {
   "cell_type": "code",
   "execution_count": 20,
   "metadata": {},
   "outputs": [],
   "source": [
    "# end call status is empty\n",
    "end_empty = survey[pd.isnull(survey['end_call_status'])]\n",
    "end_empty['issue'] = 'end call status is empty'\n",
    "\n",
    "end_empty_data = end_empty[pd.notnull(end_empty[end_empty.columns.difference(['ID', 'time_created', \n",
    "                                                                                 'time_modified', 'surveyer',\n",
    "                                                                                 'number_id', 'call_connected', \n",
    "                                                                                 'availability', \n",
    "                                                                                 'end_call_status'])]).all(axis=1)]"
   ]
  },
  {
   "cell_type": "code",
   "execution_count": 21,
   "metadata": {},
   "outputs": [],
   "source": [
    "# removing rows with empty end call status but keeping the ones which have data\n",
    "survey = survey[pd.notnull(survey['end_call_status'])]\n",
    "survey = pd.concat([survey, end_empty_data[end_empty_data.columns.difference(['issue'], sort=False)]])"
   ]
  },
  {
   "cell_type": "code",
   "execution_count": 22,
   "metadata": {},
   "outputs": [],
   "source": [
    "# end call status is incomplete\n",
    "call_incomplete = survey[survey['end_call_status']=='incompleteCall'].copy()\n",
    "call_incomplete['issue'] = 'end call status - incomplete call'"
   ]
  },
  {
   "cell_type": "code",
   "execution_count": 23,
   "metadata": {},
   "outputs": [],
   "source": [
    "# removing incomplete calls\n",
    "survey = survey[survey['end_call_status']!='incompleteCall']"
   ]
  },
  {
   "cell_type": "code",
   "execution_count": 24,
   "metadata": {},
   "outputs": [],
   "source": [
    "# state not entered\n",
    "state_blank = survey[survey['state'].isnull()]\n",
    "state_blank['issue'] = 'state not entered'"
   ]
  },
  {
   "cell_type": "code",
   "execution_count": 25,
   "metadata": {},
   "outputs": [],
   "source": [
    "# removing rows with no state entry\n",
    "survey = survey[survey['state'].notnull()]"
   ]
  },
  {
   "cell_type": "code",
   "execution_count": 26,
   "metadata": {},
   "outputs": [],
   "source": [
    "# district not entered\n",
    "district_blank = survey[survey['district'].isnull()]\n",
    "district_blank['issue'] = 'district not entered'"
   ]
  },
  {
   "cell_type": "code",
   "execution_count": 27,
   "metadata": {},
   "outputs": [],
   "source": [
    "# 3.2 not eligible true but 3.1 not eligible false\n",
    "eligibility_none = survey[(survey['eligible_none']==True) & (survey['received_not_eligible']==False)].copy()\n",
    "eligibility_none['issue'] = 'eligibility issue - schemewise vs overall, check both 3.2 and 3.1'"
   ]
  },
  {
   "cell_type": "code",
   "execution_count": 28,
   "metadata": {},
   "outputs": [],
   "source": [
    "# removing the rows with 3.2 not eligible true but 3.1 not eligible false\n",
    "survey = survey[(survey['eligible_none']==False) | (survey['received_not_eligible']==True)]"
   ]
  },
  {
   "cell_type": "code",
   "execution_count": 29,
   "metadata": {},
   "outputs": [],
   "source": [
    "# bpl and general ration\n",
    "bpl_general_ration = survey[(survey['eligible_bpl_ration']==True) & (survey['eligible_general_ration']==True)].copy()\n",
    "bpl_general_ration['issue'] = 'both bpl and general ration eligibility'"
   ]
  },
  {
   "cell_type": "code",
   "execution_count": 30,
   "metadata": {},
   "outputs": [],
   "source": [
    "# removing the rows with both bpl and general ration eligibility \n",
    "# survey = survey[(survey['eligible_bpl_ration']==False) | (survey['eligible_general_ration']==False)]"
   ]
  },
  {
   "cell_type": "code",
   "execution_count": 31,
   "metadata": {},
   "outputs": [],
   "source": [
    "# overall eligibility vs scheme wise eligibility doesn't match\n",
    "eligibility_overall = survey[(survey['eligible_none']==True) & (survey[['received_mgnrega', 'received_pm_kisan',\n",
    "                               'received_ujjwala', 'received_jan_dhan', 'received_old_age_widow',\n",
    "                               'received_registered_labor', 'received_free_ration',\n",
    "                               'eligible_mgnrega', 'eligible_pm_kisan', 'eligible_ujjwala', 'eligible_jan_dhan',\n",
    "                               'eligible_old_age_widow', 'eligible_registered_labor',\n",
    "                               'eligible_bpl_ration', 'eligible_general_ration']].isin([True]).any(axis=1))].copy()\n",
    "eligibility_overall['issue'] = 'eligibility issue - schemewise vs overall, check both 3.2 and 3.1'"
   ]
  },
  {
   "cell_type": "code",
   "execution_count": 32,
   "metadata": {},
   "outputs": [],
   "source": [
    "# removing the rows where overall eligibility vs scheme wise eligibility doesn't match\n",
    "survey = survey[(survey['eligible_none']==False) | (survey[['received_mgnrega', 'received_pm_kisan',\n",
    "                       'received_ujjwala', 'received_jan_dhan', 'received_old_age_widow',\n",
    "                       'received_registered_labor', 'received_free_ration',\n",
    "                       'eligible_mgnrega', 'eligible_pm_kisan', 'eligible_ujjwala', 'eligible_jan_dhan',\n",
    "                       'eligible_old_age_widow', 'eligible_registered_labor',\n",
    "                       'eligible_bpl_ration', 'eligible_general_ration']].isin([False]).any(axis=1))]"
   ]
  },
  {
   "cell_type": "code",
   "execution_count": 33,
   "metadata": {},
   "outputs": [],
   "source": [
    "# missing data\n",
    "missing = survey[pd.isnull(survey[survey.columns.difference(['number_id', 'comments_additional','comments_food', \n",
    "                                                             'comments_health', 'area_name', \n",
    "                                                             'comments_benefits'])]).any(axis=1)].copy()\n",
    "missing['issue'] = 'data in some cells missing'"
   ]
  },
  {
   "cell_type": "code",
   "execution_count": 34,
   "metadata": {},
   "outputs": [],
   "source": [
    "# removing the rows with missing cells\n",
    "survey = survey[pd.notnull(survey[survey.columns.difference(['number_id', 'comments_additional','comments_food', \n",
    "                                                             'comments_health', 'area_name', \n",
    "                                                             'comments_benefits'])]).all(axis=1)]"
   ]
  },
  {
   "cell_type": "code",
   "execution_count": 35,
   "metadata": {},
   "outputs": [],
   "source": [
    "# number ID missing\n",
    "num_id_missing = survey[pd.isnull(survey['number_id'])].copy()\n",
    "num_id_missing['issue'] = 'number ID missing'"
   ]
  },
  {
   "cell_type": "code",
   "execution_count": 36,
   "metadata": {},
   "outputs": [],
   "source": [
    "# received vs eligible mismatch\n",
    "mgnrega = survey[(survey['received_mgnrega']==True) & (survey['eligible_mgnrega']==False)].copy()\n",
    "mgnrega['issue'] = 'mgnrega received is true but mgnrega eligible is false'\n",
    "\n",
    "pm_kisan = survey[(survey['received_pm_kisan']==True) & (survey['eligible_pm_kisan']==False)].copy()\n",
    "pm_kisan['issue'] = 'pm kisan received is true but pm kisan eligible is false'\n",
    "\n",
    "ujjwala = survey[(survey['received_ujjwala']==True) & (survey['eligible_ujjwala']==False)].copy()\n",
    "ujjwala['issue'] = 'ujjwala received is true but ujjwala eligible is false'\n",
    "\n",
    "jan_dhan = survey[(survey['received_jan_dhan']==True) & (survey['eligible_jan_dhan']==False)].copy()\n",
    "jan_dhan['issue'] = 'jan dhan received is true but jan dhan eligible is false'\n",
    "\n",
    "old_age = survey[(survey['received_old_age_widow']==True) & (survey['eligible_old_age_widow']==False)].copy()\n",
    "old_age['issue'] = 'old age disability received is true but old age disability a eligible is false'\n",
    "\n",
    "reg_labor = survey[(survey['received_registered_labor']==True) & (survey['eligible_registered_labor']==False)].copy()\n",
    "reg_labor['issue'] = 'registered labor is true but registered labor eligible is false'\n",
    "\n",
    "ration = survey[(survey['received_free_ration']==True) & (survey[['eligible_bpl_ration', 'eligible_general_ration']].isin([False]).all(axis=1))].copy()\n",
    "ration['issue'] = 'ration received is true but ration eligible is false'\n"
   ]
  },
  {
   "cell_type": "code",
   "execution_count": 37,
   "metadata": {},
   "outputs": [],
   "source": [
    "# if scheme received is True and scheme eligible is False, marking scheme eligible as True\n",
    "survey.loc[(survey['received_mgnrega']==True) & (survey['eligible_mgnrega']==False),'eligible_mgnrega'] = True\n",
    "survey.loc[(survey['received_pm_kisan']==True) & (survey['eligible_pm_kisan']==False),'eligible_pm_kisan'] = True\n",
    "survey.loc[(survey['received_ujjwala']==True) & (survey['eligible_ujjwala']==False),'eligible_ujjwala'] = True\n",
    "survey.loc[(survey['received_jan_dhan']==True) & (survey['eligible_jan_dhan']==False),'eligible_jan_dhan'] = True\n",
    "survey.loc[(survey['received_old_age_widow']==True) & (survey['eligible_old_age_widow']==False),'eligible_old_age_widow'] = True\n",
    "survey.loc[(survey['received_registered_labor']==True) & (survey['eligible_registered_labor']==False),'eligible_registered_labor'] = True\n",
    "survey.loc[(survey['received_free_ration']==True) & (survey[['eligible_bpl_ration', 'eligible_general_ration']].isin([False]).all(axis=1)),'eligible_general_ration'] = True\n"
   ]
  },
  {
   "cell_type": "code",
   "execution_count": 38,
   "metadata": {},
   "outputs": [],
   "source": [
    "#received none true when at least one benefit has been received \n",
    "received_none = survey[(survey['received_none']==True) & (survey[['received_mgnrega', 'received_pm_kisan', \n",
    "                               'received_ujjwala', 'received_jan_dhan', 'received_old_age_widow', \n",
    "                               'received_registered_labor', 'received_free_ration']].isin([True]).any(axis=1))].copy()\n",
    "\n",
    "received_none['issue'] = 'received none is true when at least one benefit has been received'"
   ]
  },
  {
   "cell_type": "code",
   "execution_count": 39,
   "metadata": {},
   "outputs": [],
   "source": [
    "# if survey received none is True and any of the benefits received is also True, marking survey received none as False\n",
    "survey.loc[(survey['received_none']==True) & (survey[['received_mgnrega', 'received_pm_kisan', 'received_ujjwala', \n",
    "                   'received_jan_dhan', 'received_old_age_widow', 'received_registered_labor', \n",
    "                   'received_free_ration']].isin([True]).any(axis=1)), 'received_none'] = False\n",
    "                                          "
   ]
  },
  {
   "cell_type": "markdown",
   "metadata": {},
   "source": [
    "## Exporting rows with issues"
   ]
  },
  {
   "cell_type": "code",
   "execution_count": 40,
   "metadata": {},
   "outputs": [],
   "source": [
    "issues = pd.concat([duplicated, available_issue, nodata_rows, end_empty,\n",
    "                    call_incomplete, state_blank, district_blank, eligibility_none,\n",
    "                    bpl_general_ration, eligibility_overall, missing, num_id_missing,\n",
    "                    mgnrega, pm_kisan, ujjwala, jan_dhan, old_age, reg_labor,\n",
    "                    ration, received_none]).reset_index(drop=True)\n",
    "\n",
    "issues.drop_duplicates(subset=issues.columns.difference(['issue']), inplace=True)\n",
    "\n",
    "cols = [\"issue\", \"ID\", \"time_created\", \"time_modified\", \"surveyer\", \"number_id\", \"call_connected\", \"availability\", \n",
    "        \"end_call_status\", \"state\", \"district\", \"area_name\", \"need_meds\", \"comments_health\",\"have_food\", \n",
    "        \"comments_food\", \"eligible_mgnrega\", \"eligible_pm_kisan\", \"eligible_ujjwala\", \"eligible_jan_dhan\", \n",
    "        \"eligible_old_age_widow\", \"eligible_registered_labor\", \"eligible_bpl_ration\", \"eligible_general_ration\",\n",
    "        \"eligible_none\", \"received_mgnrega\", \"received_pm_kisan\", \"received_ujjwala\", \"received_jan_dhan\", \n",
    "        \"received_old_age_widow\", \"received_registered_labor\", \"received_free_ration\", \"received_not_eligible\", \n",
    "        \"received_none\", \"comments_benefits\", \"employment_status\",  \"need_to_revert\", \"comments_additional\"]\n",
    "\n",
    "issues = issues[cols]\n",
    "\n",
    "issues.to_csv('data/issues_12_04.csv', index=False)"
   ]
  },
  {
   "cell_type": "markdown",
   "metadata": {},
   "source": [
    "## Exporting clean data (which is also used for the analysis in the rest of this notebook)"
   ]
  },
  {
   "cell_type": "code",
   "execution_count": 41,
   "metadata": {},
   "outputs": [],
   "source": [
    "cols = [\"ID\", \"time_created\", \"time_modified\", \"surveyer\", \"number_id\", \"call_connected\", \"availability\", \n",
    "        \"end_call_status\", \"state\", \"district\", \"area_name\", \"need_meds\", \"comments_health\",\"have_food\", \n",
    "        \"comments_food\", \"eligible_mgnrega\", \"eligible_pm_kisan\", \"eligible_ujjwala\", \"eligible_jan_dhan\", \n",
    "        \"eligible_old_age_widow\", \"eligible_registered_labor\", \"eligible_bpl_ration\", \"eligible_general_ration\",\n",
    "        \"eligible_none\", \"received_mgnrega\", \"received_pm_kisan\", \"received_ujjwala\", \"received_jan_dhan\", \n",
    "        \"received_old_age_widow\", \"received_registered_labor\", \"received_free_ration\", \"received_not_eligible\", \n",
    "        \"received_none\", \"comments_benefits\", \"employment_status\",  \"need_to_revert\", \"comments_additional\"]\n",
    "\n",
    "survey = survey[cols]\n",
    "\n",
    "survey.to_csv('data/clean_data_12_04.csv', index=False)"
   ]
  },
  {
   "cell_type": "markdown",
   "metadata": {},
   "source": [
    "## Data aggregation"
   ]
  },
  {
   "cell_type": "code",
   "execution_count": 42,
   "metadata": {},
   "outputs": [],
   "source": [
    "def get_dashboard_row(df, agg_level, state, district, full=True):\n",
    "    \n",
    "    date = df['time_created'].max().strftime(\"%d/%m/%Y\")\n",
    "    num_days = len(df['time_created'].dt.strftime(\"%d/%m/%Y\").unique())\n",
    "    num_surveyed = len(df)\n",
    "    \n",
    "    num_unemployed = len(df[df['employment_status'] == 'unemployed'])\n",
    "    perc_unemployed = num_unemployed / num_surveyed\n",
    "    \n",
    "    num_unemployed_post_lockdown = len(df[df['employment_status'] =='unemployedPostLockdown'])\n",
    "    perc_unemployed_post_lockdown = num_unemployed_post_lockdown / num_surveyed\n",
    "    \n",
    "    num_eligible_jan_dhan = len(df[df['eligible_jan_dhan'] == True])\n",
    "    perc_eligible_jan_dhan = num_eligible_jan_dhan / num_surveyed\n",
    "    \n",
    "    num_need_med = len(df[df['need_meds'] == True])\n",
    "    perc_need_med = num_need_med / num_surveyed\n",
    "    \n",
    "    num_need_food = len(df[df['have_food'] == False])\n",
    "    perc_need_food = num_need_food / num_surveyed\n",
    "\n",
    "    perc_received_no_benefit = -999\n",
    "    perc_received_mgnrega = -999\n",
    "    perc_received_pm_kisan = -999\n",
    "    perc_received_ujjwala = -999\n",
    "    perc_received_jan_dhan = -999\n",
    "    perc_received_old_age_widow_disability = -999\n",
    "    perc_received_registered_labor = -999\n",
    "    perc_received_free_ration = -999\n",
    "\n",
    "    num_eligible_atleast_one = len(df[df['eligible_none'] == False])\n",
    "    num_received_no_benefit = len(df[(df['received_none'] == True) & (df['eligible_none'] == False)])\n",
    "    if (num_eligible_atleast_one > 0):\n",
    "        perc_received_no_benefit = num_received_no_benefit / num_eligible_atleast_one\n",
    "\n",
    "    num_eligible_mgnrega = len(df[df['eligible_mgnrega'] == True])\n",
    "    num_received_mgnrega = len(df[df['received_mgnrega'] == True])\n",
    "    if (num_eligible_mgnrega > 0):\n",
    "        perc_received_mgnrega = num_received_mgnrega / num_eligible_mgnrega\n",
    "\n",
    "    num_eligible_pm_kisan = len(df[df['eligible_pm_kisan'] == True])\n",
    "    num_received_pm_kisan = len(df[df['received_pm_kisan'] == True])\n",
    "    if (num_eligible_pm_kisan > 0):\n",
    "        perc_received_pm_kisan = num_received_pm_kisan / num_eligible_pm_kisan\n",
    "\n",
    "    num_eligible_ujjwala = len(df[df['eligible_ujjwala'] == True])\n",
    "    num_received_ujjwala = len(df[df['received_ujjwala'] == True])\n",
    "    if (num_eligible_ujjwala > 0):\n",
    "        perc_received_ujjwala = num_received_ujjwala / num_eligible_ujjwala\n",
    "\n",
    "    num_received_jan_dhan = len(df[df['received_jan_dhan'] == True])\n",
    "    if (num_eligible_jan_dhan > 0):\n",
    "        perc_received_jan_dhan = num_received_jan_dhan / num_eligible_jan_dhan\n",
    "\n",
    "    num_eligible_old_age_widow_disability = len(df[df['eligible_old_age_widow'] == True])\n",
    "    num_received_old_age_widow_disability = len(df[df['received_old_age_widow'] == True])\n",
    "    if (num_eligible_old_age_widow_disability > 0):\n",
    "        perc_received_old_age_widow_disability = num_received_old_age_widow_disability / num_eligible_old_age_widow_disability\n",
    "    \n",
    "    num_eligible_registered_labor = len(df[df['eligible_registered_labor'] == True])\n",
    "    num_received_registered_labor = len(df[df['received_registered_labor'] == True])\n",
    "    if (num_eligible_registered_labor > 0):\n",
    "        perc_received_registered_labor = num_received_registered_labor / num_eligible_registered_labor\n",
    "\n",
    "    num_eligible_free_ration = len(df[(df['eligible_bpl_ration'] == True) | (df['eligible_general_ration'] == True)])\n",
    "    num_received_free_ration = len(df[df['received_free_ration'] == True])\n",
    "    if (num_eligible_free_ration > 0):\n",
    "        perc_received_free_ration = num_received_free_ration / num_eligible_free_ration\n",
    "\n",
    "    if full: \n",
    "        return [agg_level, state, district, date, num_days, num_surveyed, \n",
    "                num_unemployed, perc_unemployed, num_unemployed_post_lockdown, perc_unemployed_post_lockdown,  \n",
    "                num_eligible_jan_dhan, perc_eligible_jan_dhan, num_need_med, perc_need_med, \n",
    "                num_need_food, perc_need_food, \n",
    "                num_eligible_atleast_one, num_received_no_benefit, perc_received_no_benefit, \n",
    "                num_eligible_mgnrega, num_received_mgnrega, perc_received_mgnrega, \n",
    "                num_eligible_pm_kisan, num_received_pm_kisan, perc_received_pm_kisan,\n",
    "                num_eligible_ujjwala, num_received_ujjwala, perc_received_ujjwala,\n",
    "                num_received_jan_dhan, perc_received_jan_dhan,\n",
    "                num_eligible_old_age_widow_disability, num_received_old_age_widow_disability, \n",
    "                perc_received_old_age_widow_disability,\n",
    "                num_eligible_registered_labor, num_received_registered_labor, perc_received_registered_labor,\n",
    "                num_eligible_free_ration, num_received_free_ration, perc_received_free_ration]\n",
    "    \n",
    "    return [agg_level, state, district, date, num_days, num_surveyed, perc_unemployed, perc_unemployed_post_lockdown,  \n",
    "            perc_eligible_jan_dhan, perc_need_med, perc_need_food, perc_received_no_benefit, \n",
    "            perc_received_mgnrega, perc_received_pm_kisan, perc_received_ujjwala, perc_received_jan_dhan,\n",
    "            perc_received_old_age_widow_disability, perc_received_registered_labor, perc_received_free_ration]\n"
   ]
  },
  {
   "cell_type": "markdown",
   "metadata": {},
   "source": [
    "## Exporting dashboard with both counts and percentages"
   ]
  },
  {
   "cell_type": "code",
   "execution_count": 43,
   "metadata": {},
   "outputs": [],
   "source": [
    "column_names = ['agg_level', 'state', 'district', 'date', 'num_days', 'num_surveyed', \n",
    "                'num_unemployed', 'perc_unemployed', 'num_unemployed_post_lockdown', 'perc_unemployed_post_lockdown',\n",
    "                'num_eligible_jan_dhan', 'perc_eligible_jan_dhan', 'num_need_med', 'perc_need_med', \n",
    "                'num_need_food', 'perc_need_food', \n",
    "                'num_eligible_atleast_one', 'num_received_no_benefit', 'perc_received_no_benefit', \n",
    "                'num_eligible_mgnrega', 'num_received_mgnrega', 'perc_received_mgnrega', \n",
    "                'num_eligible_pm_kisan', 'num_received_pm_kisan', 'perc_received_pm_kisan',\n",
    "                'num_eligible_ujjwala', 'num_received_ujjwala', 'perc_received_ujjwala',\n",
    "                'num_received_jan_dhan', 'perc_received_jan_dhan',\n",
    "                'num_eligible_old_age_widow_disability', 'num_received_old_age_widow_disability', \n",
    "                'perc_received_old_age_widow_disability',\n",
    "                'num_eligible_registered_labor', 'num_received_registered_labor', 'perc_received_registered_labor',\n",
    "                'num_eligible_free_ration', 'num_received_free_ration', 'perc_received_free_ration']\n",
    "\n",
    "full_dashboard = pd.DataFrame(columns = column_names)"
   ]
  },
  {
   "cell_type": "code",
   "execution_count": 44,
   "metadata": {},
   "outputs": [],
   "source": [
    "states = survey['state'].unique().tolist()\n",
    "states = [state for state in states if str(state) != 'nan']"
   ]
  },
  {
   "cell_type": "code",
   "execution_count": 45,
   "metadata": {},
   "outputs": [],
   "source": [
    "full_dashboard = full_dashboard.append(pd.Series(get_dashboard_row(survey, 'Country', -999, -999),\n",
    "                                                 index=full_dashboard.columns), ignore_index=True)\n",
    "for state in states:\n",
    "    state_df = survey[survey['state'] == state]\n",
    "    full_dashboard = full_dashboard.append(pd.Series(get_dashboard_row(state_df, 'State', state, -999),\n",
    "                                                     index=full_dashboard.columns), ignore_index=True)\n",
    "    districts = state_df['district'].unique().tolist()\n",
    "    districts = [district for district in districts if str(district) != 'nan']\n",
    "    for district in districts:\n",
    "        dist_df = state_df[state_df['district'] == district]\n",
    "        full_dashboard = full_dashboard.append(pd.Series(get_dashboard_row(dist_df, 'District', state, district),\n",
    "                                                         index=full_dashboard.columns), ignore_index=True)"
   ]
  },
  {
   "cell_type": "code",
   "execution_count": 46,
   "metadata": {},
   "outputs": [],
   "source": [
    "full_dashboard.to_csv('data/full_dashboard_12_04.csv', index=False)"
   ]
  },
  {
   "cell_type": "markdown",
   "metadata": {},
   "source": [
    "## Exporting dashboard with percentages only"
   ]
  },
  {
   "cell_type": "code",
   "execution_count": 47,
   "metadata": {},
   "outputs": [],
   "source": [
    "column_names = ['agg_level', 'state', 'district', 'date', 'num_days', 'num_surveyed', 'perc_unemployed', \n",
    "                'perc_unemployed_post_lockdown', 'perc_eligible_jan_dhan', 'perc_need_med', 'perc_need_food', \n",
    "                'perc_received_no_benefit', 'perc_received_mgnrega', 'perc_received_pm_kisan',\n",
    "                'perc_received_ujjwala', 'perc_received_jan_dhan', 'perc_received_old_age_widow_disability',\n",
    "                'perc_received_registered_labor', 'perc_received_free_ration']\n",
    "\n",
    "dashboard = pd.DataFrame(columns = column_names)"
   ]
  },
  {
   "cell_type": "code",
   "execution_count": 48,
   "metadata": {},
   "outputs": [],
   "source": [
    "dashboard = dashboard.append(pd.Series(get_dashboard_row(survey, 'Country', -999, -999, False),\n",
    "                                       index=dashboard.columns), ignore_index=True)\n",
    "for state in states:\n",
    "    state_df = survey[survey['state'] == state]\n",
    "    dashboard = dashboard.append(pd.Series(get_dashboard_row(state_df, 'State', state, -999, False),\n",
    "                                           index=dashboard.columns), ignore_index=True)\n",
    "    districts = state_df['district'].unique().tolist()\n",
    "    districts = [district for district in districts if str(district) != 'nan']\n",
    "    for district in districts:\n",
    "        dist_df = state_df[state_df['district'] == district]\n",
    "        dashboard = dashboard.append(pd.Series(get_dashboard_row(dist_df, 'District', state, district, False),\n",
    "                                               index=dashboard.columns), ignore_index=True)"
   ]
  },
  {
   "cell_type": "code",
   "execution_count": 49,
   "metadata": {},
   "outputs": [],
   "source": [
    "dashboard.to_csv('data/dashboard_12_04.csv', index=False)"
   ]
  },
  {
   "cell_type": "markdown",
   "metadata": {},
   "source": [
    "## Exporting qualitative responses"
   ]
  },
  {
   "cell_type": "code",
   "execution_count": 50,
   "metadata": {},
   "outputs": [],
   "source": [
    "survey.to_csv('data/qualitative_12_04.csv', columns=['ID', 'number_id', 'time_created', 'surveyer', \n",
    "                                                     'state', 'district', 'comments_health', \n",
    "                                                     'comments_food', 'comments_benefits',\n",
    "                                                     'comments_additional'], index=False)"
   ]
  },
  {
   "cell_type": "code",
   "execution_count": null,
   "metadata": {},
   "outputs": [],
   "source": []
  }
 ],
 "metadata": {
  "kernelspec": {
   "display_name": "Python 3",
   "language": "python",
   "name": "python3"
  },
  "language_info": {
   "codemirror_mode": {
    "name": "ipython",
    "version": 3
   },
   "file_extension": ".py",
   "mimetype": "text/x-python",
   "name": "python",
   "nbconvert_exporter": "python",
   "pygments_lexer": "ipython3",
   "version": "3.7.4"
  }
 },
 "nbformat": 4,
 "nbformat_minor": 2
}
