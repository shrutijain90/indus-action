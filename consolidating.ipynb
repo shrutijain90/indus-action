{
 "cells": [
  {
   "cell_type": "code",
   "execution_count": 1,
   "metadata": {},
   "outputs": [],
   "source": [
    "import pandas as pd\n",
    "import numpy as np\n",
    "import glob\n",
    "\n",
    "pd.set_option('display.max_columns', None)\n",
    "pd.set_option('display.max_rows', None)"
   ]
  },
  {
   "cell_type": "markdown",
   "metadata": {},
   "source": [
    "## Data to consolidate"
   ]
  },
  {
   "cell_type": "code",
   "execution_count": 2,
   "metadata": {},
   "outputs": [],
   "source": [
    "w1 = ['06_04 - 12_04']\n",
    "w2 = ['13_04 - 18_04']\n",
    "w3 = ['19_04','20_04','21_04','22_04','23_04','24_04','25_04']\n",
    "w4 = ['26_04','27_04','28_04','29_04','30_04','01_05','02_05']\n",
    "w5 = ['03_05','04_05','05_05','06_05','07_05','08_05','09_05']\n",
    "w1_w5 = [w1, w2, w3, w4, w5]\n",
    "w1_w5 = [folder for sublist in w1_w5 for folder in sublist]\n",
    "\n",
    "combined_folders = [w1, w2, w3, w4, w5, w1_w5]\n",
    "folder_names = ['w1','w2','w3','w4','w5','w1_w5']\n",
    "clean_data_files = []\n",
    "issues_files = []"
   ]
  },
  {
   "cell_type": "markdown",
   "metadata": {},
   "source": [
    "## Clean data"
   ]
  },
  {
   "cell_type": "code",
   "execution_count": 3,
   "metadata": {},
   "outputs": [],
   "source": [
    "# Note: eligible_general_ration and received_free_ration only in week 1 data\n",
    "cols = [\"ID\", \"time_created\", \"time_modified\", \"surveyer\", \"number_id\", \"call_type\", \"call_connected\",  \n",
    "        \"availability\", \"state\", \"district\", \"area_or_pincode\", \"area_name\", \"pincode\", \n",
    "        \"need_meds\", \"comments_health\", \"have_food\", \"where_to_get_food\", \"comments_food\", \n",
    "        \"eligible_mgnrega\", \"eligible_pm_kisan\", \"eligible_ujjwala\", \"eligible_jan_dhan\", \n",
    "        \"eligible_old_age_widow\", \"eligible_registered_labor\", \"eligible_bpl_ration\", \"eligible_apl_ration\",\n",
    "        \"eligible_antyodaya_ration\", 'eligible_general_ration', \"eligible_none\", \n",
    "        \"received_mgnrega\", \"received_pm_kisan\", \"received_ujjwala\", \"received_jan_dhan\", \n",
    "        \"received_old_age_widow\", \"received_registered_labor\", \"received_free_ration_bpl_antyodaya\", \n",
    "        \"received_free_ration_apl\", \"received_free_ration_without_any\", 'received_free_ration', \n",
    "        \"received_not_eligible\", \"received_none\", \"received_dont_know\", \"comments_benefits\", \n",
    "        \"employment_status\", \"comments_additional\", \"need_to_revert\", \"follow_up_call_needs_food_support\", \n",
    "        \"follow_up_call_needs_health_support\", \"follow_up_call_needs_public_services_support\", \n",
    "        \"follow_up_call_issue_status\", \"follow_up_call_support_organization\", \"follow_up_call_comments\", \n",
    "        \"end_call_status\", \"end_call_status_category\", \"end_call_status_needs_urgent_support\"]\n",
    "\n",
    "for combined_folder in combined_folders:\n",
    "    files = [glob.glob('data/'+ folder +'/clean_data*.csv') for folder in combined_folder]\n",
    "    files = [file for sublist in files for file in sublist]\n",
    "    clean_data = pd.DataFrame(columns = cols)\n",
    "    for file in files:\n",
    "        data_to_add = pd.read_csv(file)\n",
    "        data_to_add = data_to_add.rename(columns={\"needs_urgent_support\": \"end_call_status_needs_urgent_support\"})\n",
    "        clean_data = pd.concat([clean_data, data_to_add], ignore_index = True, sort=False)\n",
    "    clean_data = clean_data[[col for col in cols if col in clean_data.columns]]\n",
    "    clean_data_files.append(clean_data)\n",
    "    folder_name = folder_names[combined_folders.index(combined_folder)]\n",
    "    fname_clean_data = 'data/' + folder_name + '/clean_data_' + folder_name + '.csv'\n",
    "    clean_data.to_csv(fname_clean_data, index=False)"
   ]
  },
  {
   "cell_type": "markdown",
   "metadata": {},
   "source": [
    "## Issues"
   ]
  },
  {
   "cell_type": "code",
   "execution_count": 4,
   "metadata": {},
   "outputs": [],
   "source": [
    "# Note: eligible_general_ration and received_free_ration only in week 1 data\n",
    "cols = ['issue', \"ID\", \"time_created\", \"time_modified\", \"surveyer\", \"number_id\", \"call_type\", \"call_connected\",  \n",
    "        \"availability\", \"state\", \"district\", \"area_or_pincode\", \"area_name\", \"pincode\", \n",
    "        \"need_meds\", \"comments_health\", \"have_food\", \"where_to_get_food\", \"comments_food\", \n",
    "        \"eligible_mgnrega\", \"eligible_pm_kisan\", \"eligible_ujjwala\", \"eligible_jan_dhan\", \n",
    "        \"eligible_old_age_widow\", \"eligible_registered_labor\", \"eligible_bpl_ration\", \"eligible_apl_ration\",\n",
    "        \"eligible_antyodaya_ration\", 'eligible_general_ration', \"eligible_none\", \n",
    "        \"received_mgnrega\", \"received_pm_kisan\", \"received_ujjwala\", \"received_jan_dhan\", \n",
    "        \"received_old_age_widow\", \"received_registered_labor\", \"received_free_ration_bpl_antyodaya\", \n",
    "        \"received_free_ration_apl\", \"received_free_ration_without_any\", 'received_free_ration', \n",
    "        \"received_not_eligible\", \"received_none\", \"received_dont_know\", \"comments_benefits\", \n",
    "        \"employment_status\", \"comments_additional\", \"need_to_revert\", \"follow_up_call_needs_food_support\", \n",
    "        \"follow_up_call_needs_health_support\", \"follow_up_call_needs_public_services_support\", \n",
    "        \"follow_up_call_issue_status\", \"follow_up_call_support_organization\", \"follow_up_call_comments\", \n",
    "        \"end_call_status\", \"end_call_status_category\", \"end_call_status_needs_urgent_support\"]\n",
    "\n",
    "for combined_folder in combined_folders:\n",
    "    files = [glob.glob('data/'+ folder +'/issues*.csv') for folder in combined_folder]\n",
    "    files = [file for sublist in files for file in sublist]\n",
    "    issues = pd.DataFrame(columns = cols)\n",
    "    for file in files:\n",
    "        data_to_add = pd.read_csv(file)\n",
    "        data_to_add = data_to_add.rename(columns={\"needs_urgent_support\": \"end_call_status_needs_urgent_support\"})\n",
    "        issues = pd.concat([issues, data_to_add], ignore_index = True, sort=False)\n",
    "    isses = issues[[col for col in cols if col in issues.columns]]\n",
    "    issues_files.append(issues)\n",
    "    folder_name = folder_names[combined_folders.index(combined_folder)]\n",
    "    fname_issues = 'data/' + folder_name + '/issues_' + folder_name + '.csv'\n",
    "    issues.to_csv(fname_issues, index=False)"
   ]
  },
  {
   "cell_type": "markdown",
   "metadata": {},
   "source": [
    "## Data aggregation"
   ]
  },
  {
   "cell_type": "code",
   "execution_count": 5,
   "metadata": {},
   "outputs": [],
   "source": [
    "def get_dashboard_row(df, agg_level, state, district, full=True):\n",
    "    \n",
    "    date = df['time_created'].max().strftime(\"%d/%m/%Y\")\n",
    "    num_days = len(df['time_created'].dt.strftime(\"%d/%m/%Y\").unique())\n",
    "    num_surveyed = len(df)\n",
    "    \n",
    "    num_unemployed = len(df[df['employment_status'] == 'unemployed'])\n",
    "    perc_unemployed = num_unemployed / num_surveyed\n",
    "    \n",
    "    num_unemployed_post_lockdown = len(df[df['employment_status'] =='unemployedPostLockdown'])\n",
    "    perc_unemployed_post_lockdown = num_unemployed_post_lockdown / num_surveyed\n",
    "    \n",
    "    num_eligible_jan_dhan = len(df[df['eligible_jan_dhan'] == True])\n",
    "    perc_eligible_jan_dhan = num_eligible_jan_dhan / num_surveyed\n",
    "    \n",
    "    num_need_med = len(df[df['need_meds'] == True])\n",
    "    perc_need_med = num_need_med / num_surveyed\n",
    "    \n",
    "    num_need_food = len(df[df['have_food'] == False])\n",
    "    perc_need_food = num_need_food / num_surveyed\n",
    "\n",
    "    perc_received_no_benefit = np.nan\n",
    "    perc_received_mgnrega = np.nan\n",
    "    perc_received_pm_kisan = np.nan\n",
    "    perc_received_ujjwala = np.nan\n",
    "    perc_received_jan_dhan = np.nan\n",
    "    perc_received_old_age_widow_disability = np.nan\n",
    "    perc_received_registered_labor = np.nan\n",
    "    perc_received_free_ration = np.nan\n",
    "\n",
    "    num_eligible_atleast_one = len(df[df['eligible_none'] == False])\n",
    "    num_received_no_benefit = len(df[(df['received_none'] == True) & (df['eligible_none'] == False)])\n",
    "    if (num_eligible_atleast_one > 0):\n",
    "        perc_received_no_benefit = num_received_no_benefit / num_eligible_atleast_one\n",
    "\n",
    "    num_eligible_mgnrega = len(df[df['eligible_mgnrega'] == True])\n",
    "    num_received_mgnrega = len(df[df['received_mgnrega'] == True])\n",
    "    if (num_eligible_mgnrega > 0):\n",
    "        perc_received_mgnrega = num_received_mgnrega / num_eligible_mgnrega\n",
    "\n",
    "    num_eligible_pm_kisan = len(df[df['eligible_pm_kisan'] == True])\n",
    "    num_received_pm_kisan = len(df[df['received_pm_kisan'] == True])\n",
    "    if (num_eligible_pm_kisan > 0):\n",
    "        perc_received_pm_kisan = num_received_pm_kisan / num_eligible_pm_kisan\n",
    "\n",
    "    num_eligible_ujjwala = len(df[df['eligible_ujjwala'] == True])\n",
    "    num_received_ujjwala = len(df[df['received_ujjwala'] == True])\n",
    "    if (num_eligible_ujjwala > 0):\n",
    "        perc_received_ujjwala = num_received_ujjwala / num_eligible_ujjwala\n",
    "\n",
    "    num_received_jan_dhan = len(df[df['received_jan_dhan'] == True])\n",
    "    if (num_eligible_jan_dhan > 0):\n",
    "        perc_received_jan_dhan = num_received_jan_dhan / num_eligible_jan_dhan\n",
    "\n",
    "    num_eligible_old_age_widow_disability = len(df[df['eligible_old_age_widow'] == True])\n",
    "    num_received_old_age_widow_disability = len(df[df['received_old_age_widow'] == True])\n",
    "    if (num_eligible_old_age_widow_disability > 0):\n",
    "        perc_received_old_age_widow_disability = num_received_old_age_widow_disability / num_eligible_old_age_widow_disability\n",
    "    \n",
    "    num_eligible_registered_labor = len(df[df['eligible_registered_labor'] == True])\n",
    "    num_received_registered_labor = len(df[df['received_registered_labor'] == True])\n",
    "    if (num_eligible_registered_labor > 0):\n",
    "        perc_received_registered_labor = num_received_registered_labor / num_eligible_registered_labor\n",
    "    \n",
    "    # Note: eligible_general_ration and received_free_ration only in week 1 data\n",
    "    num_eligible_free_ration = len(df[(df['eligible_bpl_ration'] == True) | \n",
    "                                      (df['eligible_apl_ration'] == True) |\n",
    "                                      (df['eligible_antyodaya_ration'] == True) | \n",
    "                                      (df['eligible_general_ration'] == True)])\n",
    "    num_received_free_ration = len(df[(df['received_free_ration_bpl_antyodaya'] == True) | \n",
    "                                      (df['received_free_ration_apl'] == True) |\n",
    "                                      (df['received_free_ration'] == True)])\n",
    "    if (num_eligible_free_ration > 0):\n",
    "        perc_received_free_ration = num_received_free_ration / num_eligible_free_ration\n",
    "        \n",
    "    num_received_free_ration_irrespective_card = len(df[(df['received_free_ration_bpl_antyodaya'] == True) | \n",
    "                                                        (df['received_free_ration_apl'] == True) | \n",
    "                                                        (df['received_free_ration_without_any'] == True) | \n",
    "                                                        (df['received_free_ration'] == True)])\n",
    "    perc_received_free_ration_irrespective_card = num_received_free_ration_irrespective_card / num_surveyed\n",
    "    \n",
    "    if full: \n",
    "        return [agg_level, state, district, date, num_days, num_surveyed, \n",
    "                num_unemployed, perc_unemployed, num_unemployed_post_lockdown, perc_unemployed_post_lockdown,  \n",
    "                num_eligible_jan_dhan, perc_eligible_jan_dhan, num_need_med, perc_need_med, \n",
    "                num_need_food, perc_need_food, \n",
    "                num_eligible_atleast_one, num_received_no_benefit, perc_received_no_benefit, \n",
    "                num_eligible_mgnrega, num_received_mgnrega, perc_received_mgnrega, \n",
    "                num_eligible_pm_kisan, num_received_pm_kisan, perc_received_pm_kisan,\n",
    "                num_eligible_ujjwala, num_received_ujjwala, perc_received_ujjwala,\n",
    "                num_received_jan_dhan, perc_received_jan_dhan,\n",
    "                num_eligible_old_age_widow_disability, num_received_old_age_widow_disability, \n",
    "                perc_received_old_age_widow_disability,\n",
    "                num_eligible_registered_labor, num_received_registered_labor, perc_received_registered_labor,\n",
    "                num_eligible_free_ration, num_received_free_ration, perc_received_free_ration,\n",
    "                num_received_free_ration_irrespective_card, perc_received_free_ration_irrespective_card]\n",
    "    \n",
    "    return [agg_level, state, district, date, num_days, num_surveyed, perc_unemployed, perc_unemployed_post_lockdown,  \n",
    "            perc_eligible_jan_dhan, perc_need_med, perc_need_food, perc_received_no_benefit, \n",
    "            perc_received_mgnrega, perc_received_pm_kisan, perc_received_ujjwala, perc_received_jan_dhan,\n",
    "            perc_received_old_age_widow_disability, perc_received_registered_labor, perc_received_free_ration,\n",
    "            perc_received_free_ration_irrespective_card]\n"
   ]
  },
  {
   "cell_type": "markdown",
   "metadata": {},
   "source": [
    "## Exporting dashboard with both counts and percentages"
   ]
  },
  {
   "cell_type": "code",
   "execution_count": 6,
   "metadata": {},
   "outputs": [],
   "source": [
    "column_names = ['agg_level', 'state', 'district', 'date', 'num_days', 'num_surveyed', \n",
    "                'num_unemployed', 'perc_unemployed', 'num_unemployed_post_lockdown', 'perc_unemployed_post_lockdown',\n",
    "                'num_eligible_jan_dhan', 'perc_eligible_jan_dhan', 'num_need_med', 'perc_need_med', \n",
    "                'num_need_food', 'perc_need_food', \n",
    "                'num_eligible_atleast_one', 'num_received_no_benefit', 'perc_received_no_benefit', \n",
    "                'num_eligible_mgnrega', 'num_received_mgnrega', 'perc_received_mgnrega', \n",
    "                'num_eligible_pm_kisan', 'num_received_pm_kisan', 'perc_received_pm_kisan',\n",
    "                'num_eligible_ujjwala', 'num_received_ujjwala', 'perc_received_ujjwala',\n",
    "                'num_received_jan_dhan', 'perc_received_jan_dhan',\n",
    "                'num_eligible_old_age_widow_disability', 'num_received_old_age_widow_disability', \n",
    "                'perc_received_old_age_widow_disability',\n",
    "                'num_eligible_registered_labor', 'num_received_registered_labor', 'perc_received_registered_labor',\n",
    "                'num_eligible_free_ration', 'num_received_free_ration', 'perc_received_free_ration',\n",
    "                'num_received_free_ration_irrespective_card', 'perc_received_free_ration_irrespective_card']"
   ]
  },
  {
   "cell_type": "code",
   "execution_count": 7,
   "metadata": {},
   "outputs": [],
   "source": [
    "for folder_name in folder_names:\n",
    "    \n",
    "    fname = 'data/' + folder_name + '/clean_data_' + folder_name + '.csv'\n",
    "    survey = pd.read_csv(fname)\n",
    "    survey['time_created'] = pd.to_datetime(survey['time_created'])\n",
    "    \n",
    "    full_dashboard = pd.DataFrame(columns = column_names)\n",
    "    \n",
    "    states = survey['state'].unique().tolist()\n",
    "    states = [state for state in states if str(state) != 'nan']\n",
    "    \n",
    "    full_dashboard = full_dashboard.append(pd.Series(get_dashboard_row(survey, 'Country', np.nan, np.nan),\n",
    "                                                     index=full_dashboard.columns), ignore_index=True)\n",
    "    \n",
    "    for state in states:\n",
    "        state_df = survey[survey['state'] == state]\n",
    "        full_dashboard = full_dashboard.append(pd.Series(get_dashboard_row(state_df, 'State', state, np.nan),\n",
    "                                                         index=full_dashboard.columns), ignore_index=True)\n",
    "        districts = state_df['district'].unique().tolist()\n",
    "        districts = [district for district in districts if str(district) != 'nan']\n",
    "        \n",
    "        for district in districts:\n",
    "            dist_df = state_df[state_df['district'] == district]\n",
    "            full_dashboard = full_dashboard.append(pd.Series(get_dashboard_row(dist_df, 'District', state, district),\n",
    "                                                             index=full_dashboard.columns), ignore_index=True)\n",
    "    \n",
    "    fname_full_dashboard = 'data/' + folder_name + '/full_dashboard_' + folder_name + '.csv'\n",
    "    full_dashboard.to_csv(fname_full_dashboard, index=False)"
   ]
  },
  {
   "cell_type": "markdown",
   "metadata": {},
   "source": [
    "## Exporting dashboard with percentages only"
   ]
  },
  {
   "cell_type": "code",
   "execution_count": 9,
   "metadata": {},
   "outputs": [],
   "source": [
    "column_names = ['agg_level', 'state', 'district', 'date', 'num_days', 'num_surveyed', 'perc_unemployed', \n",
    "                'perc_unemployed_post_lockdown', 'perc_eligible_jan_dhan', 'perc_need_med', 'perc_need_food', \n",
    "                'perc_received_no_benefit', 'perc_received_mgnrega', 'perc_received_pm_kisan',\n",
    "                'perc_received_ujjwala', 'perc_received_jan_dhan', 'perc_received_old_age_widow_disability',\n",
    "                'perc_received_registered_labor', 'perc_received_free_ration', \n",
    "                'perc_received_free_ration_irrespective_card']"
   ]
  },
  {
   "cell_type": "code",
   "execution_count": 10,
   "metadata": {},
   "outputs": [],
   "source": [
    "for folder_name in folder_names:\n",
    "    \n",
    "    fname = 'data/' + folder_name + '/clean_data_' + folder_name + '.csv'\n",
    "    survey = pd.read_csv(fname)\n",
    "    survey['time_created'] = pd.to_datetime(survey['time_created'])\n",
    "    \n",
    "    dashboard = pd.DataFrame(columns = column_names)\n",
    "    \n",
    "    states = survey['state'].unique().tolist()\n",
    "    states = [state for state in states if str(state) != 'nan']\n",
    "    \n",
    "    dashboard = dashboard.append(pd.Series(get_dashboard_row(survey, 'Country', np.nan, np.nan, False),\n",
    "                                           index=dashboard.columns), ignore_index=True)\n",
    "    \n",
    "    for state in states:\n",
    "        state_df = survey[survey['state'] == state]\n",
    "        dashboard = dashboard.append(pd.Series(get_dashboard_row(state_df, 'State', state, np.nan, False),\n",
    "                                               index=dashboard.columns), ignore_index=True)\n",
    "        districts = state_df['district'].unique().tolist()\n",
    "        districts = [district for district in districts if str(district) != 'nan']\n",
    "        \n",
    "        for district in districts:\n",
    "            dist_df = state_df[state_df['district'] == district]\n",
    "            dashboard = dashboard.append(pd.Series(get_dashboard_row(dist_df, 'District', state, district, False),\n",
    "                                                   index=dashboard.columns), ignore_index=True)\n",
    "    \n",
    "    fname_dashboard = 'data/' + folder_name + '/dashboard_' + folder_name + '.csv'\n",
    "    dashboard.to_csv(fname_dashboard, index=False)"
   ]
  },
  {
   "cell_type": "markdown",
   "metadata": {},
   "source": [
    "## Exporting qualitative responses"
   ]
  },
  {
   "cell_type": "code",
   "execution_count": 11,
   "metadata": {},
   "outputs": [],
   "source": [
    "cols = ['ID', 'number_id', 'time_created', 'surveyer', 'state', 'district', 'comments_health', \n",
    "        'comments_food', 'comments_benefits', 'comments_additional', \"follow_up_call_comments\"]"
   ]
  },
  {
   "cell_type": "code",
   "execution_count": 12,
   "metadata": {},
   "outputs": [],
   "source": [
    "for folder_name in folder_names:\n",
    "    fname = 'data/' + folder_name + '/clean_data_' + folder_name + '.csv'\n",
    "    survey = pd.read_csv(fname)\n",
    "    fname_qualitative = 'data/' + folder_name + '/qualitative_' + folder_name + '.csv'\n",
    "    survey.to_csv(fname_qualitative, columns=[col for col in cols if col in survey.columns], index=False)"
   ]
  },
  {
   "cell_type": "code",
   "execution_count": null,
   "metadata": {},
   "outputs": [],
   "source": []
  }
 ],
 "metadata": {
  "kernelspec": {
   "display_name": "Python 3",
   "language": "python",
   "name": "python3"
  },
  "language_info": {
   "codemirror_mode": {
    "name": "ipython",
    "version": 3
   },
   "file_extension": ".py",
   "mimetype": "text/x-python",
   "name": "python",
   "nbconvert_exporter": "python",
   "pygments_lexer": "ipython3",
   "version": "3.7.4"
  }
 },
 "nbformat": 4,
 "nbformat_minor": 2
}
